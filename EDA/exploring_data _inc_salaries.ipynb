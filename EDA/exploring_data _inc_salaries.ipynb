{
 "cells": [
  {
   "cell_type": "code",
   "execution_count": 1,
   "metadata": {},
   "outputs": [
    {
     "data": {
      "text/html": [
       "<div>\n",
       "<style scoped>\n",
       "    .dataframe tbody tr th:only-of-type {\n",
       "        vertical-align: middle;\n",
       "    }\n",
       "\n",
       "    .dataframe tbody tr th {\n",
       "        vertical-align: top;\n",
       "    }\n",
       "\n",
       "    .dataframe thead th {\n",
       "        text-align: right;\n",
       "    }\n",
       "</style>\n",
       "<table border=\"1\" class=\"dataframe\">\n",
       "  <thead>\n",
       "    <tr style=\"text-align: right;\">\n",
       "      <th></th>\n",
       "      <th>birth_year</th>\n",
       "      <th>start_year</th>\n",
       "      <th>working_start_age</th>\n",
       "      <th>retirement_age</th>\n",
       "      <th>death_age</th>\n",
       "      <th>retirement_year</th>\n",
       "      <th>death_year</th>\n",
       "      <th>total_earning_points</th>\n",
       "      <th>current_pension_value</th>\n",
       "      <th>annual_pension</th>\n",
       "      <th>years_in_retirement</th>\n",
       "      <th>total_paid_pension</th>\n",
       "    </tr>\n",
       "    <tr>\n",
       "      <th>person_id</th>\n",
       "      <th></th>\n",
       "      <th></th>\n",
       "      <th></th>\n",
       "      <th></th>\n",
       "      <th></th>\n",
       "      <th></th>\n",
       "      <th></th>\n",
       "      <th></th>\n",
       "      <th></th>\n",
       "      <th></th>\n",
       "      <th></th>\n",
       "      <th></th>\n",
       "    </tr>\n",
       "  </thead>\n",
       "  <tbody>\n",
       "    <tr>\n",
       "      <th>0</th>\n",
       "      <td>1930</td>\n",
       "      <td>1954</td>\n",
       "      <td>24</td>\n",
       "      <td>63</td>\n",
       "      <td>70</td>\n",
       "      <td>1993</td>\n",
       "      <td>2000</td>\n",
       "      <td>46.68</td>\n",
       "      <td>15.84</td>\n",
       "      <td>739.25</td>\n",
       "      <td>7</td>\n",
       "      <td>5174.77</td>\n",
       "    </tr>\n",
       "    <tr>\n",
       "      <th>1</th>\n",
       "      <td>1929</td>\n",
       "      <td>1954</td>\n",
       "      <td>25</td>\n",
       "      <td>66</td>\n",
       "      <td>62</td>\n",
       "      <td>1995</td>\n",
       "      <td>1991</td>\n",
       "      <td>42.02</td>\n",
       "      <td>16.80</td>\n",
       "      <td>0</td>\n",
       "      <td>0</td>\n",
       "      <td>0</td>\n",
       "    </tr>\n",
       "    <tr>\n",
       "      <th>2</th>\n",
       "      <td>1930</td>\n",
       "      <td>1954</td>\n",
       "      <td>24</td>\n",
       "      <td>60</td>\n",
       "      <td>67</td>\n",
       "      <td>1990</td>\n",
       "      <td>1997</td>\n",
       "      <td>37.73</td>\n",
       "      <td>14.49</td>\n",
       "      <td>546.78</td>\n",
       "      <td>7</td>\n",
       "      <td>3827.49</td>\n",
       "    </tr>\n",
       "    <tr>\n",
       "      <th>3</th>\n",
       "      <td>1933</td>\n",
       "      <td>1954</td>\n",
       "      <td>21</td>\n",
       "      <td>65</td>\n",
       "      <td>70</td>\n",
       "      <td>1998</td>\n",
       "      <td>2003</td>\n",
       "      <td>95.73</td>\n",
       "      <td>18.36</td>\n",
       "      <td>1757.37</td>\n",
       "      <td>5</td>\n",
       "      <td>8786.86</td>\n",
       "    </tr>\n",
       "    <tr>\n",
       "      <th>4</th>\n",
       "      <td>1936</td>\n",
       "      <td>1954</td>\n",
       "      <td>18</td>\n",
       "      <td>60</td>\n",
       "      <td>70</td>\n",
       "      <td>1996</td>\n",
       "      <td>2006</td>\n",
       "      <td>69.94</td>\n",
       "      <td>17.30</td>\n",
       "      <td>1210.22</td>\n",
       "      <td>10</td>\n",
       "      <td>12102.24</td>\n",
       "    </tr>\n",
       "    <tr>\n",
       "      <th>...</th>\n",
       "      <td>...</td>\n",
       "      <td>...</td>\n",
       "      <td>...</td>\n",
       "      <td>...</td>\n",
       "      <td>...</td>\n",
       "      <td>...</td>\n",
       "      <td>...</td>\n",
       "      <td>...</td>\n",
       "      <td>...</td>\n",
       "      <td>...</td>\n",
       "      <td>...</td>\n",
       "      <td>...</td>\n",
       "    </tr>\n",
       "    <tr>\n",
       "      <th>964</th>\n",
       "      <td>1996</td>\n",
       "      <td>2022</td>\n",
       "      <td>26</td>\n",
       "      <td>61</td>\n",
       "      <td>66</td>\n",
       "      <td>2057</td>\n",
       "      <td>2062</td>\n",
       "      <td>34.30</td>\n",
       "      <td>105.00</td>\n",
       "      <td>3601.75</td>\n",
       "      <td>0</td>\n",
       "      <td>0</td>\n",
       "    </tr>\n",
       "    <tr>\n",
       "      <th>965</th>\n",
       "      <td>1999</td>\n",
       "      <td>2022</td>\n",
       "      <td>23</td>\n",
       "      <td>63</td>\n",
       "      <td>69</td>\n",
       "      <td>2062</td>\n",
       "      <td>2068</td>\n",
       "      <td>52.75</td>\n",
       "      <td>121.73</td>\n",
       "      <td>6421.38</td>\n",
       "      <td>0</td>\n",
       "      <td>0</td>\n",
       "    </tr>\n",
       "    <tr>\n",
       "      <th>966</th>\n",
       "      <td>2000</td>\n",
       "      <td>2023</td>\n",
       "      <td>23</td>\n",
       "      <td>65</td>\n",
       "      <td>66</td>\n",
       "      <td>2065</td>\n",
       "      <td>2066</td>\n",
       "      <td>69.68</td>\n",
       "      <td>133.02</td>\n",
       "      <td>9268.18</td>\n",
       "      <td>0</td>\n",
       "      <td>0</td>\n",
       "    </tr>\n",
       "    <tr>\n",
       "      <th>967</th>\n",
       "      <td>2005</td>\n",
       "      <td>2023</td>\n",
       "      <td>18</td>\n",
       "      <td>63</td>\n",
       "      <td>64</td>\n",
       "      <td>2068</td>\n",
       "      <td>2069</td>\n",
       "      <td>106.22</td>\n",
       "      <td>145.35</td>\n",
       "      <td>15438.62</td>\n",
       "      <td>0</td>\n",
       "      <td>0</td>\n",
       "    </tr>\n",
       "    <tr>\n",
       "      <th>968</th>\n",
       "      <td>2002</td>\n",
       "      <td>2023</td>\n",
       "      <td>21</td>\n",
       "      <td>64</td>\n",
       "      <td>65</td>\n",
       "      <td>2066</td>\n",
       "      <td>2067</td>\n",
       "      <td>83.43</td>\n",
       "      <td>137.01</td>\n",
       "      <td>11430.60</td>\n",
       "      <td>0</td>\n",
       "      <td>0</td>\n",
       "    </tr>\n",
       "  </tbody>\n",
       "</table>\n",
       "<p>969 rows × 12 columns</p>\n",
       "</div>"
      ],
      "text/plain": [
       "           birth_year  start_year  working_start_age  retirement_age  \\\n",
       "person_id                                                              \n",
       "0                1930        1954                 24              63   \n",
       "1                1929        1954                 25              66   \n",
       "2                1930        1954                 24              60   \n",
       "3                1933        1954                 21              65   \n",
       "4                1936        1954                 18              60   \n",
       "...               ...         ...                ...             ...   \n",
       "964              1996        2022                 26              61   \n",
       "965              1999        2022                 23              63   \n",
       "966              2000        2023                 23              65   \n",
       "967              2005        2023                 18              63   \n",
       "968              2002        2023                 21              64   \n",
       "\n",
       "           death_age  retirement_year  death_year  total_earning_points  \\\n",
       "person_id                                                                 \n",
       "0                 70             1993        2000                 46.68   \n",
       "1                 62             1995        1991                 42.02   \n",
       "2                 67             1990        1997                 37.73   \n",
       "3                 70             1998        2003                 95.73   \n",
       "4                 70             1996        2006                 69.94   \n",
       "...              ...              ...         ...                   ...   \n",
       "964               66             2057        2062                 34.30   \n",
       "965               69             2062        2068                 52.75   \n",
       "966               66             2065        2066                 69.68   \n",
       "967               64             2068        2069                106.22   \n",
       "968               65             2066        2067                 83.43   \n",
       "\n",
       "           current_pension_value  annual_pension  years_in_retirement  \\\n",
       "person_id                                                               \n",
       "0                          15.84          739.25                    7   \n",
       "1                          16.80               0                    0   \n",
       "2                          14.49          546.78                    7   \n",
       "3                          18.36         1757.37                    5   \n",
       "4                          17.30         1210.22                   10   \n",
       "...                          ...             ...                  ...   \n",
       "964                       105.00         3601.75                    0   \n",
       "965                       121.73         6421.38                    0   \n",
       "966                       133.02         9268.18                    0   \n",
       "967                       145.35        15438.62                    0   \n",
       "968                       137.01        11430.60                    0   \n",
       "\n",
       "           total_paid_pension  \n",
       "person_id                      \n",
       "0                     5174.77  \n",
       "1                           0  \n",
       "2                     3827.49  \n",
       "3                     8786.86  \n",
       "4                    12102.24  \n",
       "...                       ...  \n",
       "964                         0  \n",
       "965                         0  \n",
       "966                         0  \n",
       "967                         0  \n",
       "968                         0  \n",
       "\n",
       "[969 rows x 12 columns]"
      ]
     },
     "execution_count": 1,
     "metadata": {},
     "output_type": "execute_result"
    }
   ],
   "source": [
    "import pandas as pd \n",
    "\n",
    "df = pd.read_csv(\"../data/pension_simulation.csv\", index_col=0)\n",
    "\n",
    "# Set a custom display format for floats:\n",
    "pd.options.display.float_format = lambda x: '0' if x == 0 else f'{x:.2f}'\n",
    "\n",
    "df.head(-25)"
   ]
  },
  {
   "cell_type": "code",
   "execution_count": 2,
   "metadata": {},
   "outputs": [
    {
     "name": "stdout",
     "output_type": "stream",
     "text": [
      "<class 'pandas.core.frame.DataFrame'>\n",
      "Index: 994 entries, 0 to 993\n",
      "Data columns (total 12 columns):\n",
      " #   Column                 Non-Null Count  Dtype  \n",
      "---  ------                 --------------  -----  \n",
      " 0   birth_year             994 non-null    int64  \n",
      " 1   start_year             994 non-null    int64  \n",
      " 2   working_start_age      994 non-null    int64  \n",
      " 3   retirement_age         994 non-null    int64  \n",
      " 4   death_age              994 non-null    int64  \n",
      " 5   retirement_year        994 non-null    int64  \n",
      " 6   death_year             994 non-null    int64  \n",
      " 7   total_earning_points   994 non-null    float64\n",
      " 8   current_pension_value  994 non-null    float64\n",
      " 9   annual_pension         994 non-null    float64\n",
      " 10  years_in_retirement    994 non-null    int64  \n",
      " 11  total_paid_pension     994 non-null    float64\n",
      "dtypes: float64(4), int64(8)\n",
      "memory usage: 101.0 KB\n"
     ]
    }
   ],
   "source": [
    "df.info()"
   ]
  },
  {
   "cell_type": "code",
   "execution_count": 3,
   "metadata": {},
   "outputs": [
    {
     "data": {
      "text/html": [
       "<div>\n",
       "<style scoped>\n",
       "    .dataframe tbody tr th:only-of-type {\n",
       "        vertical-align: middle;\n",
       "    }\n",
       "\n",
       "    .dataframe tbody tr th {\n",
       "        vertical-align: top;\n",
       "    }\n",
       "\n",
       "    .dataframe thead th {\n",
       "        text-align: right;\n",
       "    }\n",
       "</style>\n",
       "<table border=\"1\" class=\"dataframe\">\n",
       "  <thead>\n",
       "    <tr style=\"text-align: right;\">\n",
       "      <th></th>\n",
       "      <th>birth_year</th>\n",
       "      <th>start_year</th>\n",
       "      <th>working_start_age</th>\n",
       "      <th>retirement_age</th>\n",
       "      <th>death_age</th>\n",
       "      <th>retirement_year</th>\n",
       "      <th>death_year</th>\n",
       "      <th>total_earning_points</th>\n",
       "      <th>current_pension_value</th>\n",
       "      <th>annual_pension</th>\n",
       "      <th>years_in_retirement</th>\n",
       "      <th>total_paid_pension</th>\n",
       "    </tr>\n",
       "  </thead>\n",
       "  <tbody>\n",
       "    <tr>\n",
       "      <th>count</th>\n",
       "      <td>994.00</td>\n",
       "      <td>994.00</td>\n",
       "      <td>994.00</td>\n",
       "      <td>994.00</td>\n",
       "      <td>994.00</td>\n",
       "      <td>994.00</td>\n",
       "      <td>994.00</td>\n",
       "      <td>994.00</td>\n",
       "      <td>994.00</td>\n",
       "      <td>994.00</td>\n",
       "      <td>994.00</td>\n",
       "      <td>994.00</td>\n",
       "    </tr>\n",
       "    <tr>\n",
       "      <th>mean</th>\n",
       "      <td>1965.95</td>\n",
       "      <td>1989.00</td>\n",
       "      <td>23.05</td>\n",
       "      <td>63.59</td>\n",
       "      <td>65.01</td>\n",
       "      <td>2029.54</td>\n",
       "      <td>2030.95</td>\n",
       "      <td>59.42</td>\n",
       "      <td>55.86</td>\n",
       "      <td>2281.16</td>\n",
       "      <td>1.04</td>\n",
       "      <td>1405.25</td>\n",
       "    </tr>\n",
       "    <tr>\n",
       "      <th>std</th>\n",
       "      <td>20.64</td>\n",
       "      <td>20.50</td>\n",
       "      <td>3.08</td>\n",
       "      <td>2.31</td>\n",
       "      <td>3.16</td>\n",
       "      <td>20.71</td>\n",
       "      <td>20.77</td>\n",
       "      <td>25.13</td>\n",
       "      <td>33.13</td>\n",
       "      <td>2872.66</td>\n",
       "      <td>2.17</td>\n",
       "      <td>3048.19</td>\n",
       "    </tr>\n",
       "    <tr>\n",
       "      <th>min</th>\n",
       "      <td>1927.00</td>\n",
       "      <td>1954.00</td>\n",
       "      <td>18.00</td>\n",
       "      <td>60.00</td>\n",
       "      <td>60.00</td>\n",
       "      <td>1988.00</td>\n",
       "      <td>1988.00</td>\n",
       "      <td>19.79</td>\n",
       "      <td>13.66</td>\n",
       "      <td>0</td>\n",
       "      <td>0</td>\n",
       "      <td>0</td>\n",
       "    </tr>\n",
       "    <tr>\n",
       "      <th>25%</th>\n",
       "      <td>1948.00</td>\n",
       "      <td>1971.00</td>\n",
       "      <td>20.00</td>\n",
       "      <td>62.00</td>\n",
       "      <td>62.00</td>\n",
       "      <td>2011.00</td>\n",
       "      <td>2014.00</td>\n",
       "      <td>40.93</td>\n",
       "      <td>26.96</td>\n",
       "      <td>0</td>\n",
       "      <td>0</td>\n",
       "      <td>0</td>\n",
       "    </tr>\n",
       "    <tr>\n",
       "      <th>50%</th>\n",
       "      <td>1966.00</td>\n",
       "      <td>1989.00</td>\n",
       "      <td>23.00</td>\n",
       "      <td>64.00</td>\n",
       "      <td>65.00</td>\n",
       "      <td>2030.00</td>\n",
       "      <td>2031.00</td>\n",
       "      <td>51.79</td>\n",
       "      <td>47.27</td>\n",
       "      <td>1465.04</td>\n",
       "      <td>0</td>\n",
       "      <td>0</td>\n",
       "    </tr>\n",
       "    <tr>\n",
       "      <th>75%</th>\n",
       "      <td>1984.00</td>\n",
       "      <td>2007.00</td>\n",
       "      <td>26.00</td>\n",
       "      <td>66.00</td>\n",
       "      <td>68.00</td>\n",
       "      <td>2047.00</td>\n",
       "      <td>2048.00</td>\n",
       "      <td>73.15</td>\n",
       "      <td>78.13</td>\n",
       "      <td>3271.07</td>\n",
       "      <td>1.00</td>\n",
       "      <td>1056.84</td>\n",
       "    </tr>\n",
       "    <tr>\n",
       "      <th>max</th>\n",
       "      <td>2005.00</td>\n",
       "      <td>2024.00</td>\n",
       "      <td>28.00</td>\n",
       "      <td>67.00</td>\n",
       "      <td>70.00</td>\n",
       "      <td>2070.00</td>\n",
       "      <td>2075.00</td>\n",
       "      <td>147.17</td>\n",
       "      <td>154.20</td>\n",
       "      <td>19468.33</td>\n",
       "      <td>10.00</td>\n",
       "      <td>20628.32</td>\n",
       "    </tr>\n",
       "  </tbody>\n",
       "</table>\n",
       "</div>"
      ],
      "text/plain": [
       "       birth_year  start_year  working_start_age  retirement_age  death_age  \\\n",
       "count      994.00      994.00             994.00          994.00     994.00   \n",
       "mean      1965.95     1989.00              23.05           63.59      65.01   \n",
       "std         20.64       20.50               3.08            2.31       3.16   \n",
       "min       1927.00     1954.00              18.00           60.00      60.00   \n",
       "25%       1948.00     1971.00              20.00           62.00      62.00   \n",
       "50%       1966.00     1989.00              23.00           64.00      65.00   \n",
       "75%       1984.00     2007.00              26.00           66.00      68.00   \n",
       "max       2005.00     2024.00              28.00           67.00      70.00   \n",
       "\n",
       "       retirement_year  death_year  total_earning_points  \\\n",
       "count           994.00      994.00                994.00   \n",
       "mean           2029.54     2030.95                 59.42   \n",
       "std              20.71       20.77                 25.13   \n",
       "min            1988.00     1988.00                 19.79   \n",
       "25%            2011.00     2014.00                 40.93   \n",
       "50%            2030.00     2031.00                 51.79   \n",
       "75%            2047.00     2048.00                 73.15   \n",
       "max            2070.00     2075.00                147.17   \n",
       "\n",
       "       current_pension_value  annual_pension  years_in_retirement  \\\n",
       "count                 994.00          994.00               994.00   \n",
       "mean                   55.86         2281.16                 1.04   \n",
       "std                    33.13         2872.66                 2.17   \n",
       "min                    13.66               0                    0   \n",
       "25%                    26.96               0                    0   \n",
       "50%                    47.27         1465.04                    0   \n",
       "75%                    78.13         3271.07                 1.00   \n",
       "max                   154.20        19468.33                10.00   \n",
       "\n",
       "       total_paid_pension  \n",
       "count              994.00  \n",
       "mean              1405.25  \n",
       "std               3048.19  \n",
       "min                     0  \n",
       "25%                     0  \n",
       "50%                     0  \n",
       "75%               1056.84  \n",
       "max              20628.32  "
      ]
     },
     "execution_count": 3,
     "metadata": {},
     "output_type": "execute_result"
    }
   ],
   "source": [
    "df.describe()\n",
    "\n",
    "# count: The number of non-null observations in each column.\n",
    "\n",
    "# mean: The average (arithmetic mean) of the values in each column.\n",
    "\n",
    "# std: The standard deviation, which measures how spread out the data is from the mean.\n",
    "\n",
    "# min: The minimum (smallest) value in the column.\n",
    "\n",
    "# 25%: The 25th percentile (also called the first quartile), meaning 25% of the values are below this value.\n",
    "\n",
    "# 50%: The 50th percentile (the median), meaning half of the values are below this value.\n",
    "\n",
    "# 75%: The 75th percentile (also called the third quartile), meaning 75% of the values are below this value.\n",
    "\n",
    "\n"
   ]
  },
  {
   "cell_type": "markdown",
   "metadata": {},
   "source": []
  },
  {
   "cell_type": "code",
   "execution_count": null,
   "metadata": {},
   "outputs": [
    {
     "data": {
      "application/vnd.plotly.v1+json": {
       "config": {
        "plotlyServerURL": "https://plot.ly"
       },
       "data": [
        {
         "bingroup": "x",
         "hovertemplate": "retirement_age=%{x}<br>count=%{y}<extra></extra>",
         "legendgroup": "",
         "marker": {
          "color": "#636efa",
          "pattern": {
           "shape": ""
          }
         },
         "name": "",
         "nbinsx": 10,
         "orientation": "v",
         "showlegend": false,
         "type": "histogram",
         "x": {
          "bdata": "P0I8QTw9Qz9DPj1CPD8/Qj9BQTxBPD1AQUJCQ0A/QUI9Qj48PkFDPj49QkBAPz1BQD5BQUNDPj49QT4/QkA+Qz4/PD9APj9CQ0BAPkA+QT48PT48QkJCQ0M+PkJBQzw/QUI/QTxAQTxAQEE+PkJDPkBAQDxBPkBBQkBDPUBCQ0NDPUI/Q0A8QT08PD09PTw9QEA9Pj9BPUM8P0JDP0FBQEA/QkM9QT5CPjw/PD4+Qz5CQUNBQjw/Q0A/Qj1CPUBCQ0A/Pj1DPjxDPz5DQEBBQEBBP0A8QT1DPEFCQD08QT1DQz5APEA9Pz1CQDw8QkJDPUJAPjxBPEBDPTw9PT4/QEI/QD5CQ0JCPUA8Qj5APD4/PT88QENDQkBDQEI/QEM9Qz9DPEA9QUNBQj88PzxAQDxBPT8+PkI9QUFDQT08QD0+PUJDQD9APj5DPUM+Qz49Pj5CQT9DQkJDQj5DQkA/QD9BPz0+PEA/QUNCQD1CQj08QUI/Qj4/PUA8QTxCQEE/PkI9PzxCPT1APj9BPT5BQj4/Qz9CQzw/QD1DPD9DQ0FDQj08PkBAPkFAQ0NDQ0I8PEI/Q0FBQUI9P0BCP0A8Q0JAQkBCPEFBPUNAQ0I9PUBCQzw+PkJDQT8+P0FAPz08QUJDQT0/PT0/PT0/PUE9PUE8PD1CPENBPUJDQ0NCQD9CQz9CQEJDQ0E/QkNCQUNCQz88Pj1DQj4+QEM+QkNCQzxBQkE9PUE9Pz08PUI9PT89PD5BP0JAPj08Pj0+Pjw+Qz08QD5CQUFDPzw+PD88Q0NDPEA/Qj9BPUI/PkE8QD9AQEI9PT88Pz5CPT1DP0FCP0JAQkM+PUJDQEFBPzw9QUI9P0FAQUI9PEJDPDxAPD0/Qz0/QT1CPkFCPkFAQD5DPEJDPDw/PEJCPEI+Q0NBQ0M/QDxBQj9BQj1DP0NDPUE9PT8/PkBDQDw/Qj1BQEA/PUBCQEBDQz5BQTxCPTxBPDw+Q0NAQD1CQEM8Pj1CQT1AQT9BQD8/QkA+Qz9BPEFDPD49QUI+P0I8QUJBPT0+Qz5APUNDQzxAPj88PD5BPDxAQT1CQT1CQj4+Qj9DPT09Qj1DQT1DQDxAQz09PT1DQENBP0A+Pj08QkFCQDw/QENBQ0M+PEA/Pjw9PEFAPEA/Qz9DQT0+P0A8PjxAQEFAPkA9PkE8Pj8/Q0I8PD8/P0NCQT5APUJAPEI/Qz8+PEJBPkNBPj5BPD1BQjw+PUJDPUE9QkBBQkI+Pj49PkJBPz5CQT5APz1AQUE+QEM/Qz88QEJDPj0/QT9AQz1AQUE/PDw+PjxDQEJDPz4+Pj1AQEM9Qg==",
          "dtype": "i1"
         },
         "xaxis": "x",
         "yaxis": "y"
        }
       ],
       "layout": {
        "bargap": 0.2,
        "barmode": "relative",
        "legend": {
         "tracegroupgap": 0
        },
        "template": {
         "data": {
          "bar": [
           {
            "error_x": {
             "color": "#2a3f5f"
            },
            "error_y": {
             "color": "#2a3f5f"
            },
            "marker": {
             "line": {
              "color": "#E5ECF6",
              "width": 0.5
             },
             "pattern": {
              "fillmode": "overlay",
              "size": 10,
              "solidity": 0.2
             }
            },
            "type": "bar"
           }
          ],
          "barpolar": [
           {
            "marker": {
             "line": {
              "color": "#E5ECF6",
              "width": 0.5
             },
             "pattern": {
              "fillmode": "overlay",
              "size": 10,
              "solidity": 0.2
             }
            },
            "type": "barpolar"
           }
          ],
          "carpet": [
           {
            "aaxis": {
             "endlinecolor": "#2a3f5f",
             "gridcolor": "white",
             "linecolor": "white",
             "minorgridcolor": "white",
             "startlinecolor": "#2a3f5f"
            },
            "baxis": {
             "endlinecolor": "#2a3f5f",
             "gridcolor": "white",
             "linecolor": "white",
             "minorgridcolor": "white",
             "startlinecolor": "#2a3f5f"
            },
            "type": "carpet"
           }
          ],
          "choropleth": [
           {
            "colorbar": {
             "outlinewidth": 0,
             "ticks": ""
            },
            "type": "choropleth"
           }
          ],
          "contour": [
           {
            "colorbar": {
             "outlinewidth": 0,
             "ticks": ""
            },
            "colorscale": [
             [
              0,
              "#0d0887"
             ],
             [
              0.1111111111111111,
              "#46039f"
             ],
             [
              0.2222222222222222,
              "#7201a8"
             ],
             [
              0.3333333333333333,
              "#9c179e"
             ],
             [
              0.4444444444444444,
              "#bd3786"
             ],
             [
              0.5555555555555556,
              "#d8576b"
             ],
             [
              0.6666666666666666,
              "#ed7953"
             ],
             [
              0.7777777777777778,
              "#fb9f3a"
             ],
             [
              0.8888888888888888,
              "#fdca26"
             ],
             [
              1,
              "#f0f921"
             ]
            ],
            "type": "contour"
           }
          ],
          "contourcarpet": [
           {
            "colorbar": {
             "outlinewidth": 0,
             "ticks": ""
            },
            "type": "contourcarpet"
           }
          ],
          "heatmap": [
           {
            "colorbar": {
             "outlinewidth": 0,
             "ticks": ""
            },
            "colorscale": [
             [
              0,
              "#0d0887"
             ],
             [
              0.1111111111111111,
              "#46039f"
             ],
             [
              0.2222222222222222,
              "#7201a8"
             ],
             [
              0.3333333333333333,
              "#9c179e"
             ],
             [
              0.4444444444444444,
              "#bd3786"
             ],
             [
              0.5555555555555556,
              "#d8576b"
             ],
             [
              0.6666666666666666,
              "#ed7953"
             ],
             [
              0.7777777777777778,
              "#fb9f3a"
             ],
             [
              0.8888888888888888,
              "#fdca26"
             ],
             [
              1,
              "#f0f921"
             ]
            ],
            "type": "heatmap"
           }
          ],
          "histogram": [
           {
            "marker": {
             "pattern": {
              "fillmode": "overlay",
              "size": 10,
              "solidity": 0.2
             }
            },
            "type": "histogram"
           }
          ],
          "histogram2d": [
           {
            "colorbar": {
             "outlinewidth": 0,
             "ticks": ""
            },
            "colorscale": [
             [
              0,
              "#0d0887"
             ],
             [
              0.1111111111111111,
              "#46039f"
             ],
             [
              0.2222222222222222,
              "#7201a8"
             ],
             [
              0.3333333333333333,
              "#9c179e"
             ],
             [
              0.4444444444444444,
              "#bd3786"
             ],
             [
              0.5555555555555556,
              "#d8576b"
             ],
             [
              0.6666666666666666,
              "#ed7953"
             ],
             [
              0.7777777777777778,
              "#fb9f3a"
             ],
             [
              0.8888888888888888,
              "#fdca26"
             ],
             [
              1,
              "#f0f921"
             ]
            ],
            "type": "histogram2d"
           }
          ],
          "histogram2dcontour": [
           {
            "colorbar": {
             "outlinewidth": 0,
             "ticks": ""
            },
            "colorscale": [
             [
              0,
              "#0d0887"
             ],
             [
              0.1111111111111111,
              "#46039f"
             ],
             [
              0.2222222222222222,
              "#7201a8"
             ],
             [
              0.3333333333333333,
              "#9c179e"
             ],
             [
              0.4444444444444444,
              "#bd3786"
             ],
             [
              0.5555555555555556,
              "#d8576b"
             ],
             [
              0.6666666666666666,
              "#ed7953"
             ],
             [
              0.7777777777777778,
              "#fb9f3a"
             ],
             [
              0.8888888888888888,
              "#fdca26"
             ],
             [
              1,
              "#f0f921"
             ]
            ],
            "type": "histogram2dcontour"
           }
          ],
          "mesh3d": [
           {
            "colorbar": {
             "outlinewidth": 0,
             "ticks": ""
            },
            "type": "mesh3d"
           }
          ],
          "parcoords": [
           {
            "line": {
             "colorbar": {
              "outlinewidth": 0,
              "ticks": ""
             }
            },
            "type": "parcoords"
           }
          ],
          "pie": [
           {
            "automargin": true,
            "type": "pie"
           }
          ],
          "scatter": [
           {
            "fillpattern": {
             "fillmode": "overlay",
             "size": 10,
             "solidity": 0.2
            },
            "type": "scatter"
           }
          ],
          "scatter3d": [
           {
            "line": {
             "colorbar": {
              "outlinewidth": 0,
              "ticks": ""
             }
            },
            "marker": {
             "colorbar": {
              "outlinewidth": 0,
              "ticks": ""
             }
            },
            "type": "scatter3d"
           }
          ],
          "scattercarpet": [
           {
            "marker": {
             "colorbar": {
              "outlinewidth": 0,
              "ticks": ""
             }
            },
            "type": "scattercarpet"
           }
          ],
          "scattergeo": [
           {
            "marker": {
             "colorbar": {
              "outlinewidth": 0,
              "ticks": ""
             }
            },
            "type": "scattergeo"
           }
          ],
          "scattergl": [
           {
            "marker": {
             "colorbar": {
              "outlinewidth": 0,
              "ticks": ""
             }
            },
            "type": "scattergl"
           }
          ],
          "scattermap": [
           {
            "marker": {
             "colorbar": {
              "outlinewidth": 0,
              "ticks": ""
             }
            },
            "type": "scattermap"
           }
          ],
          "scattermapbox": [
           {
            "marker": {
             "colorbar": {
              "outlinewidth": 0,
              "ticks": ""
             }
            },
            "type": "scattermapbox"
           }
          ],
          "scatterpolar": [
           {
            "marker": {
             "colorbar": {
              "outlinewidth": 0,
              "ticks": ""
             }
            },
            "type": "scatterpolar"
           }
          ],
          "scatterpolargl": [
           {
            "marker": {
             "colorbar": {
              "outlinewidth": 0,
              "ticks": ""
             }
            },
            "type": "scatterpolargl"
           }
          ],
          "scatterternary": [
           {
            "marker": {
             "colorbar": {
              "outlinewidth": 0,
              "ticks": ""
             }
            },
            "type": "scatterternary"
           }
          ],
          "surface": [
           {
            "colorbar": {
             "outlinewidth": 0,
             "ticks": ""
            },
            "colorscale": [
             [
              0,
              "#0d0887"
             ],
             [
              0.1111111111111111,
              "#46039f"
             ],
             [
              0.2222222222222222,
              "#7201a8"
             ],
             [
              0.3333333333333333,
              "#9c179e"
             ],
             [
              0.4444444444444444,
              "#bd3786"
             ],
             [
              0.5555555555555556,
              "#d8576b"
             ],
             [
              0.6666666666666666,
              "#ed7953"
             ],
             [
              0.7777777777777778,
              "#fb9f3a"
             ],
             [
              0.8888888888888888,
              "#fdca26"
             ],
             [
              1,
              "#f0f921"
             ]
            ],
            "type": "surface"
           }
          ],
          "table": [
           {
            "cells": {
             "fill": {
              "color": "#EBF0F8"
             },
             "line": {
              "color": "white"
             }
            },
            "header": {
             "fill": {
              "color": "#C8D4E3"
             },
             "line": {
              "color": "white"
             }
            },
            "type": "table"
           }
          ]
         },
         "layout": {
          "annotationdefaults": {
           "arrowcolor": "#2a3f5f",
           "arrowhead": 0,
           "arrowwidth": 1
          },
          "autotypenumbers": "strict",
          "coloraxis": {
           "colorbar": {
            "outlinewidth": 0,
            "ticks": ""
           }
          },
          "colorscale": {
           "diverging": [
            [
             0,
             "#8e0152"
            ],
            [
             0.1,
             "#c51b7d"
            ],
            [
             0.2,
             "#de77ae"
            ],
            [
             0.3,
             "#f1b6da"
            ],
            [
             0.4,
             "#fde0ef"
            ],
            [
             0.5,
             "#f7f7f7"
            ],
            [
             0.6,
             "#e6f5d0"
            ],
            [
             0.7,
             "#b8e186"
            ],
            [
             0.8,
             "#7fbc41"
            ],
            [
             0.9,
             "#4d9221"
            ],
            [
             1,
             "#276419"
            ]
           ],
           "sequential": [
            [
             0,
             "#0d0887"
            ],
            [
             0.1111111111111111,
             "#46039f"
            ],
            [
             0.2222222222222222,
             "#7201a8"
            ],
            [
             0.3333333333333333,
             "#9c179e"
            ],
            [
             0.4444444444444444,
             "#bd3786"
            ],
            [
             0.5555555555555556,
             "#d8576b"
            ],
            [
             0.6666666666666666,
             "#ed7953"
            ],
            [
             0.7777777777777778,
             "#fb9f3a"
            ],
            [
             0.8888888888888888,
             "#fdca26"
            ],
            [
             1,
             "#f0f921"
            ]
           ],
           "sequentialminus": [
            [
             0,
             "#0d0887"
            ],
            [
             0.1111111111111111,
             "#46039f"
            ],
            [
             0.2222222222222222,
             "#7201a8"
            ],
            [
             0.3333333333333333,
             "#9c179e"
            ],
            [
             0.4444444444444444,
             "#bd3786"
            ],
            [
             0.5555555555555556,
             "#d8576b"
            ],
            [
             0.6666666666666666,
             "#ed7953"
            ],
            [
             0.7777777777777778,
             "#fb9f3a"
            ],
            [
             0.8888888888888888,
             "#fdca26"
            ],
            [
             1,
             "#f0f921"
            ]
           ]
          },
          "colorway": [
           "#636efa",
           "#EF553B",
           "#00cc96",
           "#ab63fa",
           "#FFA15A",
           "#19d3f3",
           "#FF6692",
           "#B6E880",
           "#FF97FF",
           "#FECB52"
          ],
          "font": {
           "color": "#2a3f5f"
          },
          "geo": {
           "bgcolor": "white",
           "lakecolor": "white",
           "landcolor": "#E5ECF6",
           "showlakes": true,
           "showland": true,
           "subunitcolor": "white"
          },
          "hoverlabel": {
           "align": "left"
          },
          "hovermode": "closest",
          "mapbox": {
           "style": "light"
          },
          "paper_bgcolor": "white",
          "plot_bgcolor": "#E5ECF6",
          "polar": {
           "angularaxis": {
            "gridcolor": "white",
            "linecolor": "white",
            "ticks": ""
           },
           "bgcolor": "#E5ECF6",
           "radialaxis": {
            "gridcolor": "white",
            "linecolor": "white",
            "ticks": ""
           }
          },
          "scene": {
           "xaxis": {
            "backgroundcolor": "#E5ECF6",
            "gridcolor": "white",
            "gridwidth": 2,
            "linecolor": "white",
            "showbackground": true,
            "ticks": "",
            "zerolinecolor": "white"
           },
           "yaxis": {
            "backgroundcolor": "#E5ECF6",
            "gridcolor": "white",
            "gridwidth": 2,
            "linecolor": "white",
            "showbackground": true,
            "ticks": "",
            "zerolinecolor": "white"
           },
           "zaxis": {
            "backgroundcolor": "#E5ECF6",
            "gridcolor": "white",
            "gridwidth": 2,
            "linecolor": "white",
            "showbackground": true,
            "ticks": "",
            "zerolinecolor": "white"
           }
          },
          "shapedefaults": {
           "line": {
            "color": "#2a3f5f"
           }
          },
          "ternary": {
           "aaxis": {
            "gridcolor": "white",
            "linecolor": "white",
            "ticks": ""
           },
           "baxis": {
            "gridcolor": "white",
            "linecolor": "white",
            "ticks": ""
           },
           "bgcolor": "#E5ECF6",
           "caxis": {
            "gridcolor": "white",
            "linecolor": "white",
            "ticks": ""
           }
          },
          "title": {
           "x": 0.05
          },
          "xaxis": {
           "automargin": true,
           "gridcolor": "white",
           "linecolor": "white",
           "ticks": "",
           "title": {
            "standoff": 15
           },
           "zerolinecolor": "white",
           "zerolinewidth": 2
          },
          "yaxis": {
           "automargin": true,
           "gridcolor": "white",
           "linecolor": "white",
           "ticks": "",
           "title": {
            "standoff": 15
           },
           "zerolinecolor": "white",
           "zerolinewidth": 2
          }
         }
        },
        "title": {
         "text": "Distribution of Retirement Age"
        },
        "xaxis": {
         "anchor": "y",
         "domain": [
          0,
          1
         ],
         "title": {
          "text": "retirement_age"
         }
        },
        "yaxis": {
         "anchor": "x",
         "domain": [
          0,
          1
         ],
         "title": {
          "text": "count"
         }
        }
       }
      }
     },
     "metadata": {},
     "output_type": "display_data"
    }
   ],
   "source": [
    "import plotly.express as px\n",
    "\n",
    "fig = px.histogram(df, x='retirement_age', nbins=10,\n",
    "                   title='Distribution of Retirement Age')\n",
    "\n",
    "# Set a gap between bars (here, 0.2)\n",
    "fig.update_layout(bargap=0.2)\n",
    "\n",
    "fig.show()\n"
   ]
  },
  {
   "cell_type": "code",
   "execution_count": null,
   "metadata": {},
   "outputs": [
    {
     "data": {
      "application/vnd.plotly.v1+json": {
       "config": {
        "plotlyServerURL": "https://plot.ly"
       },
       "data": [
        {
         "hovertemplate": "Retirement Year=%{x}<br>Total Paid Pension=%{y}<extra></extra>",
         "legendgroup": "",
         "marker": {
          "color": "#636efa",
          "pattern": {
           "shape": ""
          }
         },
         "name": "",
         "orientation": "v",
         "showlegend": false,
         "textposition": "auto",
         "type": "bar",
         "x": {
          "bdata": "xAfGB8cHyAfJB8oHywfMB80HzgfPB9AH0QfSB9MH1AfVB9YH1wfYB9kH2gfbB9wH3QfeB98H4AfhB+IH4wfkB+UH5gfnB+gH",
          "dtype": "i2"
         },
         "xaxis": "x",
         "y": {
          "bdata": "eHuByY8cm0C+od/ZDPPDQAAAAAAAAAAASUTUUOFZuEC6LFVOF0/RQKrYH9PHS6dArmPAQa8LzkDXezZfm//hQNJHXBT2atdAI5dIoaNm4UB8OtxThl3QQPLVww+cCdZAWP2sdrw85ECwZEYMRf/qQFuN4yXtQ+NASpclQa6w4kB2WCPPFaXyQMiH+xE2TfFAsGJ+UlKw5EDXv8p9ZjfuQPRY4munrvZANC9ExfeA6EAiQ6EfH9DdQIQheyXeBOZA0Xrew/uo7kDWCyBq/8XrQE1JNPYZVOxAFlfkqp5G4UCrgpEYckzkQGY76r1wxt5Ac8QYnuA75kCa4GDJ/fLRQMsSZyH61vNA+uD0+QYI+UCGHQhZ/FypQJMjBZZ1YdhA",
          "dtype": "f8"
         },
         "yaxis": "y"
        }
       ],
       "layout": {
        "barmode": "relative",
        "legend": {
         "tracegroupgap": 0
        },
        "template": {
         "data": {
          "bar": [
           {
            "error_x": {
             "color": "#2a3f5f"
            },
            "error_y": {
             "color": "#2a3f5f"
            },
            "marker": {
             "line": {
              "color": "#E5ECF6",
              "width": 0.5
             },
             "pattern": {
              "fillmode": "overlay",
              "size": 10,
              "solidity": 0.2
             }
            },
            "type": "bar"
           }
          ],
          "barpolar": [
           {
            "marker": {
             "line": {
              "color": "#E5ECF6",
              "width": 0.5
             },
             "pattern": {
              "fillmode": "overlay",
              "size": 10,
              "solidity": 0.2
             }
            },
            "type": "barpolar"
           }
          ],
          "carpet": [
           {
            "aaxis": {
             "endlinecolor": "#2a3f5f",
             "gridcolor": "white",
             "linecolor": "white",
             "minorgridcolor": "white",
             "startlinecolor": "#2a3f5f"
            },
            "baxis": {
             "endlinecolor": "#2a3f5f",
             "gridcolor": "white",
             "linecolor": "white",
             "minorgridcolor": "white",
             "startlinecolor": "#2a3f5f"
            },
            "type": "carpet"
           }
          ],
          "choropleth": [
           {
            "colorbar": {
             "outlinewidth": 0,
             "ticks": ""
            },
            "type": "choropleth"
           }
          ],
          "contour": [
           {
            "colorbar": {
             "outlinewidth": 0,
             "ticks": ""
            },
            "colorscale": [
             [
              0,
              "#0d0887"
             ],
             [
              0.1111111111111111,
              "#46039f"
             ],
             [
              0.2222222222222222,
              "#7201a8"
             ],
             [
              0.3333333333333333,
              "#9c179e"
             ],
             [
              0.4444444444444444,
              "#bd3786"
             ],
             [
              0.5555555555555556,
              "#d8576b"
             ],
             [
              0.6666666666666666,
              "#ed7953"
             ],
             [
              0.7777777777777778,
              "#fb9f3a"
             ],
             [
              0.8888888888888888,
              "#fdca26"
             ],
             [
              1,
              "#f0f921"
             ]
            ],
            "type": "contour"
           }
          ],
          "contourcarpet": [
           {
            "colorbar": {
             "outlinewidth": 0,
             "ticks": ""
            },
            "type": "contourcarpet"
           }
          ],
          "heatmap": [
           {
            "colorbar": {
             "outlinewidth": 0,
             "ticks": ""
            },
            "colorscale": [
             [
              0,
              "#0d0887"
             ],
             [
              0.1111111111111111,
              "#46039f"
             ],
             [
              0.2222222222222222,
              "#7201a8"
             ],
             [
              0.3333333333333333,
              "#9c179e"
             ],
             [
              0.4444444444444444,
              "#bd3786"
             ],
             [
              0.5555555555555556,
              "#d8576b"
             ],
             [
              0.6666666666666666,
              "#ed7953"
             ],
             [
              0.7777777777777778,
              "#fb9f3a"
             ],
             [
              0.8888888888888888,
              "#fdca26"
             ],
             [
              1,
              "#f0f921"
             ]
            ],
            "type": "heatmap"
           }
          ],
          "histogram": [
           {
            "marker": {
             "pattern": {
              "fillmode": "overlay",
              "size": 10,
              "solidity": 0.2
             }
            },
            "type": "histogram"
           }
          ],
          "histogram2d": [
           {
            "colorbar": {
             "outlinewidth": 0,
             "ticks": ""
            },
            "colorscale": [
             [
              0,
              "#0d0887"
             ],
             [
              0.1111111111111111,
              "#46039f"
             ],
             [
              0.2222222222222222,
              "#7201a8"
             ],
             [
              0.3333333333333333,
              "#9c179e"
             ],
             [
              0.4444444444444444,
              "#bd3786"
             ],
             [
              0.5555555555555556,
              "#d8576b"
             ],
             [
              0.6666666666666666,
              "#ed7953"
             ],
             [
              0.7777777777777778,
              "#fb9f3a"
             ],
             [
              0.8888888888888888,
              "#fdca26"
             ],
             [
              1,
              "#f0f921"
             ]
            ],
            "type": "histogram2d"
           }
          ],
          "histogram2dcontour": [
           {
            "colorbar": {
             "outlinewidth": 0,
             "ticks": ""
            },
            "colorscale": [
             [
              0,
              "#0d0887"
             ],
             [
              0.1111111111111111,
              "#46039f"
             ],
             [
              0.2222222222222222,
              "#7201a8"
             ],
             [
              0.3333333333333333,
              "#9c179e"
             ],
             [
              0.4444444444444444,
              "#bd3786"
             ],
             [
              0.5555555555555556,
              "#d8576b"
             ],
             [
              0.6666666666666666,
              "#ed7953"
             ],
             [
              0.7777777777777778,
              "#fb9f3a"
             ],
             [
              0.8888888888888888,
              "#fdca26"
             ],
             [
              1,
              "#f0f921"
             ]
            ],
            "type": "histogram2dcontour"
           }
          ],
          "mesh3d": [
           {
            "colorbar": {
             "outlinewidth": 0,
             "ticks": ""
            },
            "type": "mesh3d"
           }
          ],
          "parcoords": [
           {
            "line": {
             "colorbar": {
              "outlinewidth": 0,
              "ticks": ""
             }
            },
            "type": "parcoords"
           }
          ],
          "pie": [
           {
            "automargin": true,
            "type": "pie"
           }
          ],
          "scatter": [
           {
            "fillpattern": {
             "fillmode": "overlay",
             "size": 10,
             "solidity": 0.2
            },
            "type": "scatter"
           }
          ],
          "scatter3d": [
           {
            "line": {
             "colorbar": {
              "outlinewidth": 0,
              "ticks": ""
             }
            },
            "marker": {
             "colorbar": {
              "outlinewidth": 0,
              "ticks": ""
             }
            },
            "type": "scatter3d"
           }
          ],
          "scattercarpet": [
           {
            "marker": {
             "colorbar": {
              "outlinewidth": 0,
              "ticks": ""
             }
            },
            "type": "scattercarpet"
           }
          ],
          "scattergeo": [
           {
            "marker": {
             "colorbar": {
              "outlinewidth": 0,
              "ticks": ""
             }
            },
            "type": "scattergeo"
           }
          ],
          "scattergl": [
           {
            "marker": {
             "colorbar": {
              "outlinewidth": 0,
              "ticks": ""
             }
            },
            "type": "scattergl"
           }
          ],
          "scattermap": [
           {
            "marker": {
             "colorbar": {
              "outlinewidth": 0,
              "ticks": ""
             }
            },
            "type": "scattermap"
           }
          ],
          "scattermapbox": [
           {
            "marker": {
             "colorbar": {
              "outlinewidth": 0,
              "ticks": ""
             }
            },
            "type": "scattermapbox"
           }
          ],
          "scatterpolar": [
           {
            "marker": {
             "colorbar": {
              "outlinewidth": 0,
              "ticks": ""
             }
            },
            "type": "scatterpolar"
           }
          ],
          "scatterpolargl": [
           {
            "marker": {
             "colorbar": {
              "outlinewidth": 0,
              "ticks": ""
             }
            },
            "type": "scatterpolargl"
           }
          ],
          "scatterternary": [
           {
            "marker": {
             "colorbar": {
              "outlinewidth": 0,
              "ticks": ""
             }
            },
            "type": "scatterternary"
           }
          ],
          "surface": [
           {
            "colorbar": {
             "outlinewidth": 0,
             "ticks": ""
            },
            "colorscale": [
             [
              0,
              "#0d0887"
             ],
             [
              0.1111111111111111,
              "#46039f"
             ],
             [
              0.2222222222222222,
              "#7201a8"
             ],
             [
              0.3333333333333333,
              "#9c179e"
             ],
             [
              0.4444444444444444,
              "#bd3786"
             ],
             [
              0.5555555555555556,
              "#d8576b"
             ],
             [
              0.6666666666666666,
              "#ed7953"
             ],
             [
              0.7777777777777778,
              "#fb9f3a"
             ],
             [
              0.8888888888888888,
              "#fdca26"
             ],
             [
              1,
              "#f0f921"
             ]
            ],
            "type": "surface"
           }
          ],
          "table": [
           {
            "cells": {
             "fill": {
              "color": "#EBF0F8"
             },
             "line": {
              "color": "white"
             }
            },
            "header": {
             "fill": {
              "color": "#C8D4E3"
             },
             "line": {
              "color": "white"
             }
            },
            "type": "table"
           }
          ]
         },
         "layout": {
          "annotationdefaults": {
           "arrowcolor": "#2a3f5f",
           "arrowhead": 0,
           "arrowwidth": 1
          },
          "autotypenumbers": "strict",
          "coloraxis": {
           "colorbar": {
            "outlinewidth": 0,
            "ticks": ""
           }
          },
          "colorscale": {
           "diverging": [
            [
             0,
             "#8e0152"
            ],
            [
             0.1,
             "#c51b7d"
            ],
            [
             0.2,
             "#de77ae"
            ],
            [
             0.3,
             "#f1b6da"
            ],
            [
             0.4,
             "#fde0ef"
            ],
            [
             0.5,
             "#f7f7f7"
            ],
            [
             0.6,
             "#e6f5d0"
            ],
            [
             0.7,
             "#b8e186"
            ],
            [
             0.8,
             "#7fbc41"
            ],
            [
             0.9,
             "#4d9221"
            ],
            [
             1,
             "#276419"
            ]
           ],
           "sequential": [
            [
             0,
             "#0d0887"
            ],
            [
             0.1111111111111111,
             "#46039f"
            ],
            [
             0.2222222222222222,
             "#7201a8"
            ],
            [
             0.3333333333333333,
             "#9c179e"
            ],
            [
             0.4444444444444444,
             "#bd3786"
            ],
            [
             0.5555555555555556,
             "#d8576b"
            ],
            [
             0.6666666666666666,
             "#ed7953"
            ],
            [
             0.7777777777777778,
             "#fb9f3a"
            ],
            [
             0.8888888888888888,
             "#fdca26"
            ],
            [
             1,
             "#f0f921"
            ]
           ],
           "sequentialminus": [
            [
             0,
             "#0d0887"
            ],
            [
             0.1111111111111111,
             "#46039f"
            ],
            [
             0.2222222222222222,
             "#7201a8"
            ],
            [
             0.3333333333333333,
             "#9c179e"
            ],
            [
             0.4444444444444444,
             "#bd3786"
            ],
            [
             0.5555555555555556,
             "#d8576b"
            ],
            [
             0.6666666666666666,
             "#ed7953"
            ],
            [
             0.7777777777777778,
             "#fb9f3a"
            ],
            [
             0.8888888888888888,
             "#fdca26"
            ],
            [
             1,
             "#f0f921"
            ]
           ]
          },
          "colorway": [
           "#636efa",
           "#EF553B",
           "#00cc96",
           "#ab63fa",
           "#FFA15A",
           "#19d3f3",
           "#FF6692",
           "#B6E880",
           "#FF97FF",
           "#FECB52"
          ],
          "font": {
           "color": "#2a3f5f"
          },
          "geo": {
           "bgcolor": "white",
           "lakecolor": "white",
           "landcolor": "#E5ECF6",
           "showlakes": true,
           "showland": true,
           "subunitcolor": "white"
          },
          "hoverlabel": {
           "align": "left"
          },
          "hovermode": "closest",
          "mapbox": {
           "style": "light"
          },
          "paper_bgcolor": "white",
          "plot_bgcolor": "#E5ECF6",
          "polar": {
           "angularaxis": {
            "gridcolor": "white",
            "linecolor": "white",
            "ticks": ""
           },
           "bgcolor": "#E5ECF6",
           "radialaxis": {
            "gridcolor": "white",
            "linecolor": "white",
            "ticks": ""
           }
          },
          "scene": {
           "xaxis": {
            "backgroundcolor": "#E5ECF6",
            "gridcolor": "white",
            "gridwidth": 2,
            "linecolor": "white",
            "showbackground": true,
            "ticks": "",
            "zerolinecolor": "white"
           },
           "yaxis": {
            "backgroundcolor": "#E5ECF6",
            "gridcolor": "white",
            "gridwidth": 2,
            "linecolor": "white",
            "showbackground": true,
            "ticks": "",
            "zerolinecolor": "white"
           },
           "zaxis": {
            "backgroundcolor": "#E5ECF6",
            "gridcolor": "white",
            "gridwidth": 2,
            "linecolor": "white",
            "showbackground": true,
            "ticks": "",
            "zerolinecolor": "white"
           }
          },
          "shapedefaults": {
           "line": {
            "color": "#2a3f5f"
           }
          },
          "ternary": {
           "aaxis": {
            "gridcolor": "white",
            "linecolor": "white",
            "ticks": ""
           },
           "baxis": {
            "gridcolor": "white",
            "linecolor": "white",
            "ticks": ""
           },
           "bgcolor": "#E5ECF6",
           "caxis": {
            "gridcolor": "white",
            "linecolor": "white",
            "ticks": ""
           }
          },
          "title": {
           "x": 0.05
          },
          "xaxis": {
           "automargin": true,
           "gridcolor": "white",
           "linecolor": "white",
           "ticks": "",
           "title": {
            "standoff": 15
           },
           "zerolinecolor": "white",
           "zerolinewidth": 2
          },
          "yaxis": {
           "automargin": true,
           "gridcolor": "white",
           "linecolor": "white",
           "ticks": "",
           "title": {
            "standoff": 15
           },
           "zerolinecolor": "white",
           "zerolinewidth": 2
          }
         }
        },
        "title": {
         "text": "Total Paid Pension per Retirement Year (Up to 2024)"
        },
        "xaxis": {
         "anchor": "y",
         "domain": [
          0,
          1
         ],
         "title": {
          "text": "Retirement Year"
         }
        },
        "yaxis": {
         "anchor": "x",
         "domain": [
          0,
          1
         ],
         "title": {
          "text": "Total Paid Pension"
         }
        }
       }
      }
     },
     "metadata": {},
     "output_type": "display_data"
    }
   ],
   "source": [
    "import plotly.express as px\n",
    "\n",
    "# Only consider data up to retirement_year <= 2024\n",
    "df_filtered = df[df['retirement_year'] <= 2024]\n",
    "\n",
    "# Group by retirement_year and sum the total_paid_pension\n",
    "df_grouped = (\n",
    "    df_filtered\n",
    "    .groupby('retirement_year', as_index=False)\n",
    "    ['total_paid_pension']\n",
    "    .sum()\n",
    ")\n",
    "\n",
    "# Create a bar chart\n",
    "fig = px.bar(\n",
    "    df_grouped, \n",
    "    x='retirement_year', \n",
    "    y='total_paid_pension',\n",
    "    title='Total Paid Pension per Retirement Year (Up to 2024)',\n",
    "    labels={'retirement_year': 'Retirement Year', 'total_paid_pension': 'Total Paid Pension'}\n",
    ")\n",
    "fig.show()\n"
   ]
  },
  {
   "cell_type": "code",
   "execution_count": 9,
   "metadata": {},
   "outputs": [
    {
     "data": {
      "application/vnd.plotly.v1+json": {
       "config": {
        "plotlyServerURL": "https://plot.ly"
       },
       "data": [
        {
         "hovertemplate": "retirement_year=%{x}<br>current_pension_value=%{y}<extra></extra>",
         "legendgroup": "",
         "line": {
          "color": "#636efa",
          "dash": "solid"
         },
         "marker": {
          "symbol": "circle"
         },
         "mode": "lines",
         "name": "",
         "orientation": "v",
         "showlegend": false,
         "type": "scatter",
         "x": {
          "bdata": "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",
          "dtype": "i2"
         },
         "xaxis": "x",
         "y": {
          "bdata": "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",
          "dtype": "f8"
         },
         "yaxis": "y"
        }
       ],
       "layout": {
        "legend": {
         "tracegroupgap": 0
        },
        "template": {
         "data": {
          "bar": [
           {
            "error_x": {
             "color": "#2a3f5f"
            },
            "error_y": {
             "color": "#2a3f5f"
            },
            "marker": {
             "line": {
              "color": "#E5ECF6",
              "width": 0.5
             },
             "pattern": {
              "fillmode": "overlay",
              "size": 10,
              "solidity": 0.2
             }
            },
            "type": "bar"
           }
          ],
          "barpolar": [
           {
            "marker": {
             "line": {
              "color": "#E5ECF6",
              "width": 0.5
             },
             "pattern": {
              "fillmode": "overlay",
              "size": 10,
              "solidity": 0.2
             }
            },
            "type": "barpolar"
           }
          ],
          "carpet": [
           {
            "aaxis": {
             "endlinecolor": "#2a3f5f",
             "gridcolor": "white",
             "linecolor": "white",
             "minorgridcolor": "white",
             "startlinecolor": "#2a3f5f"
            },
            "baxis": {
             "endlinecolor": "#2a3f5f",
             "gridcolor": "white",
             "linecolor": "white",
             "minorgridcolor": "white",
             "startlinecolor": "#2a3f5f"
            },
            "type": "carpet"
           }
          ],
          "choropleth": [
           {
            "colorbar": {
             "outlinewidth": 0,
             "ticks": ""
            },
            "type": "choropleth"
           }
          ],
          "contour": [
           {
            "colorbar": {
             "outlinewidth": 0,
             "ticks": ""
            },
            "colorscale": [
             [
              0,
              "#0d0887"
             ],
             [
              0.1111111111111111,
              "#46039f"
             ],
             [
              0.2222222222222222,
              "#7201a8"
             ],
             [
              0.3333333333333333,
              "#9c179e"
             ],
             [
              0.4444444444444444,
              "#bd3786"
             ],
             [
              0.5555555555555556,
              "#d8576b"
             ],
             [
              0.6666666666666666,
              "#ed7953"
             ],
             [
              0.7777777777777778,
              "#fb9f3a"
             ],
             [
              0.8888888888888888,
              "#fdca26"
             ],
             [
              1,
              "#f0f921"
             ]
            ],
            "type": "contour"
           }
          ],
          "contourcarpet": [
           {
            "colorbar": {
             "outlinewidth": 0,
             "ticks": ""
            },
            "type": "contourcarpet"
           }
          ],
          "heatmap": [
           {
            "colorbar": {
             "outlinewidth": 0,
             "ticks": ""
            },
            "colorscale": [
             [
              0,
              "#0d0887"
             ],
             [
              0.1111111111111111,
              "#46039f"
             ],
             [
              0.2222222222222222,
              "#7201a8"
             ],
             [
              0.3333333333333333,
              "#9c179e"
             ],
             [
              0.4444444444444444,
              "#bd3786"
             ],
             [
              0.5555555555555556,
              "#d8576b"
             ],
             [
              0.6666666666666666,
              "#ed7953"
             ],
             [
              0.7777777777777778,
              "#fb9f3a"
             ],
             [
              0.8888888888888888,
              "#fdca26"
             ],
             [
              1,
              "#f0f921"
             ]
            ],
            "type": "heatmap"
           }
          ],
          "histogram": [
           {
            "marker": {
             "pattern": {
              "fillmode": "overlay",
              "size": 10,
              "solidity": 0.2
             }
            },
            "type": "histogram"
           }
          ],
          "histogram2d": [
           {
            "colorbar": {
             "outlinewidth": 0,
             "ticks": ""
            },
            "colorscale": [
             [
              0,
              "#0d0887"
             ],
             [
              0.1111111111111111,
              "#46039f"
             ],
             [
              0.2222222222222222,
              "#7201a8"
             ],
             [
              0.3333333333333333,
              "#9c179e"
             ],
             [
              0.4444444444444444,
              "#bd3786"
             ],
             [
              0.5555555555555556,
              "#d8576b"
             ],
             [
              0.6666666666666666,
              "#ed7953"
             ],
             [
              0.7777777777777778,
              "#fb9f3a"
             ],
             [
              0.8888888888888888,
              "#fdca26"
             ],
             [
              1,
              "#f0f921"
             ]
            ],
            "type": "histogram2d"
           }
          ],
          "histogram2dcontour": [
           {
            "colorbar": {
             "outlinewidth": 0,
             "ticks": ""
            },
            "colorscale": [
             [
              0,
              "#0d0887"
             ],
             [
              0.1111111111111111,
              "#46039f"
             ],
             [
              0.2222222222222222,
              "#7201a8"
             ],
             [
              0.3333333333333333,
              "#9c179e"
             ],
             [
              0.4444444444444444,
              "#bd3786"
             ],
             [
              0.5555555555555556,
              "#d8576b"
             ],
             [
              0.6666666666666666,
              "#ed7953"
             ],
             [
              0.7777777777777778,
              "#fb9f3a"
             ],
             [
              0.8888888888888888,
              "#fdca26"
             ],
             [
              1,
              "#f0f921"
             ]
            ],
            "type": "histogram2dcontour"
           }
          ],
          "mesh3d": [
           {
            "colorbar": {
             "outlinewidth": 0,
             "ticks": ""
            },
            "type": "mesh3d"
           }
          ],
          "parcoords": [
           {
            "line": {
             "colorbar": {
              "outlinewidth": 0,
              "ticks": ""
             }
            },
            "type": "parcoords"
           }
          ],
          "pie": [
           {
            "automargin": true,
            "type": "pie"
           }
          ],
          "scatter": [
           {
            "fillpattern": {
             "fillmode": "overlay",
             "size": 10,
             "solidity": 0.2
            },
            "type": "scatter"
           }
          ],
          "scatter3d": [
           {
            "line": {
             "colorbar": {
              "outlinewidth": 0,
              "ticks": ""
             }
            },
            "marker": {
             "colorbar": {
              "outlinewidth": 0,
              "ticks": ""
             }
            },
            "type": "scatter3d"
           }
          ],
          "scattercarpet": [
           {
            "marker": {
             "colorbar": {
              "outlinewidth": 0,
              "ticks": ""
             }
            },
            "type": "scattercarpet"
           }
          ],
          "scattergeo": [
           {
            "marker": {
             "colorbar": {
              "outlinewidth": 0,
              "ticks": ""
             }
            },
            "type": "scattergeo"
           }
          ],
          "scattergl": [
           {
            "marker": {
             "colorbar": {
              "outlinewidth": 0,
              "ticks": ""
             }
            },
            "type": "scattergl"
           }
          ],
          "scattermap": [
           {
            "marker": {
             "colorbar": {
              "outlinewidth": 0,
              "ticks": ""
             }
            },
            "type": "scattermap"
           }
          ],
          "scattermapbox": [
           {
            "marker": {
             "colorbar": {
              "outlinewidth": 0,
              "ticks": ""
             }
            },
            "type": "scattermapbox"
           }
          ],
          "scatterpolar": [
           {
            "marker": {
             "colorbar": {
              "outlinewidth": 0,
              "ticks": ""
             }
            },
            "type": "scatterpolar"
           }
          ],
          "scatterpolargl": [
           {
            "marker": {
             "colorbar": {
              "outlinewidth": 0,
              "ticks": ""
             }
            },
            "type": "scatterpolargl"
           }
          ],
          "scatterternary": [
           {
            "marker": {
             "colorbar": {
              "outlinewidth": 0,
              "ticks": ""
             }
            },
            "type": "scatterternary"
           }
          ],
          "surface": [
           {
            "colorbar": {
             "outlinewidth": 0,
             "ticks": ""
            },
            "colorscale": [
             [
              0,
              "#0d0887"
             ],
             [
              0.1111111111111111,
              "#46039f"
             ],
             [
              0.2222222222222222,
              "#7201a8"
             ],
             [
              0.3333333333333333,
              "#9c179e"
             ],
             [
              0.4444444444444444,
              "#bd3786"
             ],
             [
              0.5555555555555556,
              "#d8576b"
             ],
             [
              0.6666666666666666,
              "#ed7953"
             ],
             [
              0.7777777777777778,
              "#fb9f3a"
             ],
             [
              0.8888888888888888,
              "#fdca26"
             ],
             [
              1,
              "#f0f921"
             ]
            ],
            "type": "surface"
           }
          ],
          "table": [
           {
            "cells": {
             "fill": {
              "color": "#EBF0F8"
             },
             "line": {
              "color": "white"
             }
            },
            "header": {
             "fill": {
              "color": "#C8D4E3"
             },
             "line": {
              "color": "white"
             }
            },
            "type": "table"
           }
          ]
         },
         "layout": {
          "annotationdefaults": {
           "arrowcolor": "#2a3f5f",
           "arrowhead": 0,
           "arrowwidth": 1
          },
          "autotypenumbers": "strict",
          "coloraxis": {
           "colorbar": {
            "outlinewidth": 0,
            "ticks": ""
           }
          },
          "colorscale": {
           "diverging": [
            [
             0,
             "#8e0152"
            ],
            [
             0.1,
             "#c51b7d"
            ],
            [
             0.2,
             "#de77ae"
            ],
            [
             0.3,
             "#f1b6da"
            ],
            [
             0.4,
             "#fde0ef"
            ],
            [
             0.5,
             "#f7f7f7"
            ],
            [
             0.6,
             "#e6f5d0"
            ],
            [
             0.7,
             "#b8e186"
            ],
            [
             0.8,
             "#7fbc41"
            ],
            [
             0.9,
             "#4d9221"
            ],
            [
             1,
             "#276419"
            ]
           ],
           "sequential": [
            [
             0,
             "#0d0887"
            ],
            [
             0.1111111111111111,
             "#46039f"
            ],
            [
             0.2222222222222222,
             "#7201a8"
            ],
            [
             0.3333333333333333,
             "#9c179e"
            ],
            [
             0.4444444444444444,
             "#bd3786"
            ],
            [
             0.5555555555555556,
             "#d8576b"
            ],
            [
             0.6666666666666666,
             "#ed7953"
            ],
            [
             0.7777777777777778,
             "#fb9f3a"
            ],
            [
             0.8888888888888888,
             "#fdca26"
            ],
            [
             1,
             "#f0f921"
            ]
           ],
           "sequentialminus": [
            [
             0,
             "#0d0887"
            ],
            [
             0.1111111111111111,
             "#46039f"
            ],
            [
             0.2222222222222222,
             "#7201a8"
            ],
            [
             0.3333333333333333,
             "#9c179e"
            ],
            [
             0.4444444444444444,
             "#bd3786"
            ],
            [
             0.5555555555555556,
             "#d8576b"
            ],
            [
             0.6666666666666666,
             "#ed7953"
            ],
            [
             0.7777777777777778,
             "#fb9f3a"
            ],
            [
             0.8888888888888888,
             "#fdca26"
            ],
            [
             1,
             "#f0f921"
            ]
           ]
          },
          "colorway": [
           "#636efa",
           "#EF553B",
           "#00cc96",
           "#ab63fa",
           "#FFA15A",
           "#19d3f3",
           "#FF6692",
           "#B6E880",
           "#FF97FF",
           "#FECB52"
          ],
          "font": {
           "color": "#2a3f5f"
          },
          "geo": {
           "bgcolor": "white",
           "lakecolor": "white",
           "landcolor": "#E5ECF6",
           "showlakes": true,
           "showland": true,
           "subunitcolor": "white"
          },
          "hoverlabel": {
           "align": "left"
          },
          "hovermode": "closest",
          "mapbox": {
           "style": "light"
          },
          "paper_bgcolor": "white",
          "plot_bgcolor": "#E5ECF6",
          "polar": {
           "angularaxis": {
            "gridcolor": "white",
            "linecolor": "white",
            "ticks": ""
           },
           "bgcolor": "#E5ECF6",
           "radialaxis": {
            "gridcolor": "white",
            "linecolor": "white",
            "ticks": ""
           }
          },
          "scene": {
           "xaxis": {
            "backgroundcolor": "#E5ECF6",
            "gridcolor": "white",
            "gridwidth": 2,
            "linecolor": "white",
            "showbackground": true,
            "ticks": "",
            "zerolinecolor": "white"
           },
           "yaxis": {
            "backgroundcolor": "#E5ECF6",
            "gridcolor": "white",
            "gridwidth": 2,
            "linecolor": "white",
            "showbackground": true,
            "ticks": "",
            "zerolinecolor": "white"
           },
           "zaxis": {
            "backgroundcolor": "#E5ECF6",
            "gridcolor": "white",
            "gridwidth": 2,
            "linecolor": "white",
            "showbackground": true,
            "ticks": "",
            "zerolinecolor": "white"
           }
          },
          "shapedefaults": {
           "line": {
            "color": "#2a3f5f"
           }
          },
          "ternary": {
           "aaxis": {
            "gridcolor": "white",
            "linecolor": "white",
            "ticks": ""
           },
           "baxis": {
            "gridcolor": "white",
            "linecolor": "white",
            "ticks": ""
           },
           "bgcolor": "#E5ECF6",
           "caxis": {
            "gridcolor": "white",
            "linecolor": "white",
            "ticks": ""
           }
          },
          "title": {
           "x": 0.05
          },
          "xaxis": {
           "automargin": true,
           "gridcolor": "white",
           "linecolor": "white",
           "ticks": "",
           "title": {
            "standoff": 15
           },
           "zerolinecolor": "white",
           "zerolinewidth": 2
          },
          "yaxis": {
           "automargin": true,
           "gridcolor": "white",
           "linecolor": "white",
           "ticks": "",
           "title": {
            "standoff": 15
           },
           "zerolinecolor": "white",
           "zerolinewidth": 2
          }
         }
        },
        "title": {
         "text": "Evolution of the Current Pension Value over Retirement Year"
        },
        "xaxis": {
         "anchor": "y",
         "domain": [
          0,
          1
         ],
         "title": {
          "text": "retirement_year"
         }
        },
        "yaxis": {
         "anchor": "x",
         "domain": [
          0,
          1
         ],
         "title": {
          "text": "current_pension_value"
         }
        }
       }
      }
     },
     "metadata": {},
     "output_type": "display_data"
    }
   ],
   "source": [
    "fig = px.line(df.sort_values('retirement_year'), x='retirement_year', y='current_pension_value',\n",
    "              title='Evolution of the Current Pension Value over Retirement Year')\n",
    "fig.show()\n"
   ]
  },
  {
   "cell_type": "markdown",
   "metadata": {},
   "source": []
  }
 ],
 "metadata": {
  "kernelspec": {
   "display_name": "pension_forecast",
   "language": "python",
   "name": "python3"
  },
  "language_info": {
   "codemirror_mode": {
    "name": "ipython",
    "version": 3
   },
   "file_extension": ".py",
   "mimetype": "text/x-python",
   "name": "python",
   "nbconvert_exporter": "python",
   "pygments_lexer": "ipython3",
   "version": "3.12.1"
  }
 },
 "nbformat": 4,
 "nbformat_minor": 2
}
